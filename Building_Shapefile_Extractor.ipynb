{
  "nbformat": 4,
  "nbformat_minor": 0,
  "metadata": {
    "colab": {
      "provenance": []
    },
    "kernelspec": {
      "name": "python3",
      "display_name": "Python 3"
    },
    "language_info": {
      "name": "python"
    }
  },
  "cells": [
    {
      "cell_type": "code",
      "source": [
        "!pip install geopandas"
      ],
      "metadata": {
        "id": "_PIYm6zMKK7Q"
      },
      "execution_count": null,
      "outputs": []
    },
    {
      "cell_type": "code",
      "source": [
        "import pandas as pd\n",
        "import geopandas as gpd\n",
        "from shapely.geometry import shape\n",
        "import os"
      ],
      "metadata": {
        "id": "WXKXFf0yTInD"
      },
      "execution_count": null,
      "outputs": []
    },
    {
      "cell_type": "code",
      "source": [
        "os.mkdir('gis')\n",
        "os.chdir('gis')"
      ],
      "metadata": {
        "id": "HCldo35vS5qa"
      },
      "execution_count": null,
      "outputs": []
    },
    {
      "cell_type": "code",
      "source": [
        "def main():\n",
        "    location = 'Uzbekistan'\n",
        "\n",
        "    dataset_links = pd.read_csv(\"https://minedbuildings.blob.core.windows.net/global-buildings/dataset-links.csv\")\n",
        "    greece_links = dataset_links[dataset_links.Location == location]\n",
        "    for _, row in greece_links.iterrows():\n",
        "        df = pd.read_json(row.Url, lines=True)\n",
        "        df['geometry'] = df['geometry'].apply(shape)\n",
        "        gdf = gpd.GeoDataFrame(df, crs=4326)\n",
        "        gdf.to_file(f\"{row.QuadKey}.shp\", driver=\"ESRI Shapefile\")\n",
        "\n",
        "\n",
        "if __name__ == \"__main__\":\n",
        "    main()"
      ],
      "metadata": {
        "id": "zUju309tKA2y"
      },
      "execution_count": null,
      "outputs": []
    },
    {
      "cell_type": "code",
      "source": [
        "os.chdir('..')"
      ],
      "metadata": {
        "id": "sH85XJ3URmLM"
      },
      "execution_count": null,
      "outputs": []
    },
    {
      "cell_type": "code",
      "source": [
        "!zip -r /content/building.zip /content/gis"
      ],
      "metadata": {
        "id": "oAWurjZBRjva"
      },
      "execution_count": null,
      "outputs": []
    }
  ]
}